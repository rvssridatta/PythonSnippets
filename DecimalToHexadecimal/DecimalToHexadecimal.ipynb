{
  "nbformat": 4,
  "nbformat_minor": 0,
  "metadata": {
    "colab": {
      "name": "DecimalToHexadecimal.ipynb",
      "provenance": [],
      "collapsed_sections": [],
      "authorship_tag": "ABX9TyMVlyzTf2gXbBmN+2SRdlFV"
    },
    "kernelspec": {
      "name": "python3",
      "display_name": "Python 3"
    },
    "language_info": {
      "name": "python"
    }
  },
  "cells": [
    {
      "cell_type": "code",
      "execution_count": 16,
      "metadata": {
        "id": "fyDIJZyjR-l8"
      },
      "outputs": [],
      "source": [
        "#decimal_num = 35631\n",
        "\n",
        "hexadecimal_dictionary = {10:'A',11:'B',13:'C',14:'D',15:'E'}\n",
        "list_to_store_hexanumber = []\n",
        "\n",
        "def convert_to_hexadecimal(decimal_num):\n",
        "  while decimal_num > 0:\n",
        "    remainder = decimal_num % 16\n",
        "    decimal_num = decimal_num // 16\n",
        "    #print(remainder)\n",
        "    if remainder in list(hexadecimal_dictionary.keys()):   #checks whether remainder present in list of keyvalues in hexadecimal_dictionary\n",
        "      remainder = str(hexadecimal_dictionary[remainder])\n",
        "      list_to_store_hexanumber.append(remainder)\n",
        "    \n",
        "    else:\n",
        "      list_to_store_hexanumber.append(remainder)\n",
        "      \n",
        "  \n",
        "  return(\"\".join(map(str,list_to_store_hexanumber[-1::-1]))) #reverse the list and converts them into string values using map funtion\n"
      ]
    },
    {
      "cell_type": "code",
      "source": [
        "hexadecimal = convert_to_hexadecimal(decimal_num = 35631)"
      ],
      "metadata": {
        "id": "G5m7J7LHTjHc"
      },
      "execution_count": 17,
      "outputs": []
    },
    {
      "cell_type": "code",
      "source": [
        "print(hexadecimal)"
      ],
      "metadata": {
        "colab": {
          "base_uri": "https://localhost:8080/"
        },
        "id": "Ks-6U5w-quMt",
        "outputId": "ad97eedc-c725-4980-e12f-db0e93d13b6c"
      },
      "execution_count": 18,
      "outputs": [
        {
          "output_type": "stream",
          "name": "stdout",
          "text": [
            "8B2E\n"
          ]
        }
      ]
    },
    {
      "cell_type": "code",
      "source": [
        ""
      ],
      "metadata": {
        "id": "TU_7-0L6xPac"
      },
      "execution_count": null,
      "outputs": []
    }
  ]
}