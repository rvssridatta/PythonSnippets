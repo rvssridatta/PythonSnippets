{
  "nbformat": 4,
  "nbformat_minor": 0,
  "metadata": {
    "colab": {
      "provenance": [],
      "authorship_tag": "ABX9TyNN83rfnYgxnz3NmoE3M52g"
    },
    "kernelspec": {
      "name": "python3",
      "display_name": "Python 3"
    },
    "language_info": {
      "name": "python"
    }
  },
  "cells": [
    {
      "cell_type": "code",
      "execution_count": null,
      "metadata": {
        "id": "g3jgldLsepBH"
      },
      "outputs": [],
      "source": []
    },
    {
      "cell_type": "markdown",
      "source": [
        "## **How to Create a Dictionary from 2 given lists using Dictionary Comprehension.**"
      ],
      "metadata": {
        "id": "tJ4_8W59fhMr"
      }
    },
    {
      "cell_type": "code",
      "source": [
        "key_list = ['Jan','Feb','Mar','Jun']\n",
        "value_list = [31,28,31,30]"
      ],
      "metadata": {
        "id": "qjVaJ4DJfeeQ"
      },
      "execution_count": 1,
      "outputs": []
    },
    {
      "cell_type": "code",
      "source": [
        "final_dict = {key_list[i]:value_list[i] for i in range(len(key_list))}"
      ],
      "metadata": {
        "id": "G8nlGeF-e-Qi"
      },
      "execution_count": 2,
      "outputs": []
    },
    {
      "cell_type": "code",
      "source": [
        "final_dict"
      ],
      "metadata": {
        "id": "ZEbT94BufTQ3",
        "colab": {
          "base_uri": "https://localhost:8080/"
        },
        "outputId": "8b1817ad-520c-4b73-98c7-17248b4c9a48"
      },
      "execution_count": 3,
      "outputs": [
        {
          "output_type": "execute_result",
          "data": {
            "text/plain": [
              "{'Jan': 31, 'Feb': 28, 'Mar': 31, 'Jun': 30}"
            ]
          },
          "metadata": {},
          "execution_count": 3
        }
      ]
    },
    {
      "cell_type": "code",
      "source": [],
      "metadata": {
        "id": "lwiD3fbzyND5"
      },
      "execution_count": null,
      "outputs": []
    }
  ]
}