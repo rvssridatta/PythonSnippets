{
  "nbformat": 4,
  "nbformat_minor": 0,
  "metadata": {
    "colab": {
      "provenance": [],
      "authorship_tag": "ABX9TyMDbsAaeKhKApTTGX+KOXyh"
    },
    "kernelspec": {
      "name": "python3",
      "display_name": "Python 3"
    },
    "language_info": {
      "name": "python"
    }
  },
  "cells": [
    {
      "cell_type": "markdown",
      "source": [
        "***Rules for Roman Numericals***\n",
        "\n",
        "I = 1, V = 5, X = 10, L = 50, C = 100, D = 500, M = 1000.\n",
        "\n",
        "Zero is not represented.\n",
        "\n",
        "Numbers greater than 3,999 are not represented.\n",
        "\n",
        "Roman numerals are repeated to add value: III is equivalent to 1 +1 +1 = 3.\n",
        "\n",
        "Only powers of 10 may be repeated in this way. Thus, VV is invalid; 5 + 5 would instead be expressed as X.\n",
        "\n",
        "No more than three repetitions of a numeral can be used. Five repetitions can be represented with a single, larger numeral; to represent four, use the next larger numeral, but precede it with a numeral to subtract from it. Thus, IIII is invalid and would instead be written as IV (one less than five). Likewise, XC represents 90 (10 less than 100), and XL represents 40 (10 less than 50).\n",
        "\n",
        "A numeral used for subtraction in this way must be the largest power of 10 that is less than the numeral it precedes. Thus, XC is valid but IC is invalid.\n",
        "\n"
      ],
      "metadata": {
        "id": "Ws1mMCYuiCVa"
      }
    },
    {
      "cell_type": "code",
      "execution_count": 1,
      "metadata": {
        "id": "R1N0by7mhpZm"
      },
      "outputs": [],
      "source": [
        "num = 1994\n",
        "#based on given information prepared a dictionary to which assigns values to roman symbols\n",
        "#last 6 key value pairs in roman_dict are made from exctra conditions given in the problem statement\n",
        "roman_dict = {1:'I',5:'V',10:'X',50:'L',100:'C',500:'D',1000:'M',4:'IV',9:'IX',40:'XL',90:'XC',400:'CD',900:'CM'}"
      ]
    },
    {
      "cell_type": "code",
      "source": [
        "def num_to_roman(num):\n",
        "    '''\n",
        "    Function Name: num_to_roman\n",
        "    Description : This function converts any numerical(0<num,3999) into roman numerals.\n",
        "    Output : Roman Symbols\n",
        "    On Failure : raise rxception\n",
        "    Author : Sridatta\n",
        "    Version : 1.0\n",
        "    '''\n",
        "    try:\n",
        "        roman_l = [] #initializing empty list to store roman symbols\n",
        "        if 0<num<4000: #according to roman standard rule\n",
        "            l = list(map(int,str(num)))\n",
        "            for i in range(len(l)):\n",
        "                digit_value = l[i]*10**(len(l)-i-1) #digit_value == 1000 if input is 1994\n",
        "                #checks whether obtained digital value present in defined dictionary or not\n",
        "                if digit_value in roman_dict:\n",
        "                    roman_l.append(roman_dict[digit_value]) \n",
        "                #when digital value not in defined dictionary\n",
        "                elif l[i]>=5:  #this condition checks how many times to repeat highest roman symbol for given input num\n",
        "                    diff = l[i]-5  #roman symbol will be repeated upto diff times\n",
        "                \n",
        "                    if 500<= digit_value < 1000: #this condition checks whether to include 'D' or not\n",
        "                        digit_value = roman_dict[500]+roman_dict[10**(len(l)-i-1)]*diff\n",
        "                        roman_l.append(digit_value)\n",
        "                    elif 50<= digit_value < 100:  #this condition checks whether to include 'L' or not\n",
        "                        digit_value = roman_dict[50]+roman_dict[10**(len(l)-i-1)]*diff\n",
        "                        roman_l.append(digit_value)\n",
        "                    else:                         #this condition checks whether to include 'V' or not\n",
        "                        digit_value = roman_dict[5]+roman_dict[10**(len(l)-i-1)]*diff\n",
        "                        roman_l.append(digit_value)\n",
        "                    \n",
        "                    \n",
        "                else:\n",
        "                    digit_value = roman_dict[10**(len(l)-i-1)]*l[i]\n",
        "                    roman_l.append(digit_value)\n",
        "        return(''.join(roman_l))\n",
        "    \n",
        "    except Exception as e:\n",
        "        return Exception(e)"
      ],
      "metadata": {
        "id": "YvmkqVVBinK8"
      },
      "execution_count": 2,
      "outputs": []
    },
    {
      "cell_type": "code",
      "source": [
        "num_to_roman(num)"
      ],
      "metadata": {
        "colab": {
          "base_uri": "https://localhost:8080/",
          "height": 36
        },
        "id": "lKX8GO8Mitjy",
        "outputId": "bce193d3-ba65-4128-fd76-63c99fb2f51e"
      },
      "execution_count": 3,
      "outputs": [
        {
          "output_type": "execute_result",
          "data": {
            "text/plain": [
              "'MCMXCIV'"
            ],
            "application/vnd.google.colaboratory.intrinsic+json": {
              "type": "string"
            }
          },
          "metadata": {},
          "execution_count": 3
        }
      ]
    },
    {
      "cell_type": "code",
      "source": [],
      "metadata": {
        "id": "LG3xaTQGi1Nk"
      },
      "execution_count": null,
      "outputs": []
    }
  ]
}