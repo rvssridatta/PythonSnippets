{
  "nbformat": 4,
  "nbformat_minor": 0,
  "metadata": {
    "colab": {
      "provenance": [],
      "authorship_tag": "ABX9TyN9AL5P0yKFF4E6gIbBkLyZ",
      "include_colab_link": true
    },
    "kernelspec": {
      "name": "python3",
      "display_name": "Python 3"
    },
    "language_info": {
      "name": "python"
    }
  },
  "cells": [
    {
      "cell_type": "markdown",
      "metadata": {
        "id": "view-in-github",
        "colab_type": "text"
      },
      "source": [
        "<a href=\"https://colab.research.google.com/github/rvssridatta/PythonSnippets/blob/main/numpytile.ipynb\" target=\"_parent\"><img src=\"https://colab.research.google.com/assets/colab-badge.svg\" alt=\"Open In Colab\"/></a>"
      ]
    },
    {
      "cell_type": "code",
      "execution_count": 1,
      "metadata": {
        "id": "yS3os3NXli_k"
      },
      "outputs": [],
      "source": [
        "#tile function \n",
        "\n",
        "\n",
        "import  numpy as np"
      ]
    },
    {
      "cell_type": "code",
      "source": [
        "ar = np.arange(5)\n",
        "ar"
      ],
      "metadata": {
        "colab": {
          "base_uri": "https://localhost:8080/"
        },
        "id": "GN71Fr6dm2bz",
        "outputId": "a8b601ef-328e-4d18-f0ca-f7dc93f6e2d6"
      },
      "execution_count": 3,
      "outputs": [
        {
          "output_type": "execute_result",
          "data": {
            "text/plain": [
              "array([0, 1, 2, 3, 4])"
            ]
          },
          "metadata": {},
          "execution_count": 3
        }
      ]
    },
    {
      "cell_type": "code",
      "source": [
        "print(ar)"
      ],
      "metadata": {
        "colab": {
          "base_uri": "https://localhost:8080/"
        },
        "id": "ah1KTYRxm_c2",
        "outputId": "2a63bf1e-53e3-44e3-ec69-f3f8466c9157"
      },
      "execution_count": 4,
      "outputs": [
        {
          "output_type": "stream",
          "name": "stdout",
          "text": [
            "[0 1 2 3 4]\n"
          ]
        }
      ]
    },
    {
      "cell_type": "code",
      "source": [
        "repeat = 2\n",
        "\n",
        "print(\"Repeating ar 2 times\", np.tile(ar,repeat))"
      ],
      "metadata": {
        "colab": {
          "base_uri": "https://localhost:8080/"
        },
        "id": "zmUewoARnIMA",
        "outputId": "9a8fa262-de44-4498-8751-b5367cb50bb5"
      },
      "execution_count": 5,
      "outputs": [
        {
          "output_type": "stream",
          "name": "stdout",
          "text": [
            "Repeating ar 2 times [0 1 2 3 4 0 1 2 3 4]\n"
          ]
        }
      ]
    },
    {
      "cell_type": "code",
      "source": [
        "repeat = 3\n",
        "\n",
        "print(\"Repeating ar 3 times: \\n\", np.tile(ar,repeat))"
      ],
      "metadata": {
        "colab": {
          "base_uri": "https://localhost:8080/"
        },
        "id": "as-9DQ1jndmB",
        "outputId": "43c88991-9970-4bbb-8db0-0578cac40d7f"
      },
      "execution_count": 8,
      "outputs": [
        {
          "output_type": "stream",
          "name": "stdout",
          "text": [
            "Repeating ar 3 times: \n",
            " [0 1 2 3 4 0 1 2 3 4 0 1 2 3 4]\n"
          ]
        }
      ]
    },
    {
      "cell_type": "code",
      "source": [
        "ar = np.arange(3)\n",
        "print(ar1)"
      ],
      "metadata": {
        "colab": {
          "base_uri": "https://localhost:8080/"
        },
        "id": "-UuQRVwrnnnR",
        "outputId": "498bcf6c-ea55-4693-80f3-cc672aec1b46"
      },
      "execution_count": 16,
      "outputs": [
        {
          "output_type": "stream",
          "name": "stdout",
          "text": [
            "[[0 1 2 0 1 2]\n",
            " [0 1 2 0 1 2]]\n"
          ]
        }
      ]
    },
    {
      "cell_type": "code",
      "source": [
        "a=2\n",
        "b=2\n",
        "repeat1 = (a,b)\n",
        "ar1 = np.tile(ar,repeat1)\n",
        "print(\"Repeating ar1 : \\n\", ar1)"
      ],
      "metadata": {
        "colab": {
          "base_uri": "https://localhost:8080/"
        },
        "id": "j1E-SJTvnzfr",
        "outputId": "2e9cb90e-0149-4796-e7d5-d0e34f5f62e4"
      },
      "execution_count": 17,
      "outputs": [
        {
          "output_type": "stream",
          "name": "stdout",
          "text": [
            "Repeating ar1 : \n",
            " [[0 1 2 0 1 2]\n",
            " [0 1 2 0 1 2]]\n"
          ]
        }
      ]
    },
    {
      "cell_type": "code",
      "source": [
        "print(\"Repeating ar1 : \\n\", ar1.shape)"
      ],
      "metadata": {
        "colab": {
          "base_uri": "https://localhost:8080/"
        },
        "id": "j0PIwl6Cn6aY",
        "outputId": "4ae1b9c2-a6b5-4ddf-dcd5-8080b1c4a58f"
      },
      "execution_count": 18,
      "outputs": [
        {
          "output_type": "stream",
          "name": "stdout",
          "text": [
            "Repeating ar1 : \n",
            " (2, 6)\n"
          ]
        }
      ]
    },
    {
      "cell_type": "code",
      "source": [
        "a=3\n",
        "b=2\n",
        "repeat2 = (a,b)\n",
        "\n",
        "ar2 = np.tile(ar,repeat2)\n",
        "print(\"Repeating ar2: \\n\", ar2)\n",
        "print(\"Repeating ar2: \\n\", ar2.shape)"
      ],
      "metadata": {
        "colab": {
          "base_uri": "https://localhost:8080/"
        },
        "id": "AqaJJS5cofOi",
        "outputId": "03bb1926-cc01-48c2-b462-a6f4b7bbc538"
      },
      "execution_count": 28,
      "outputs": [
        {
          "output_type": "stream",
          "name": "stdout",
          "text": [
            "Repeating ar2: \n",
            " [[0 1 2 0 1 2]\n",
            " [0 1 2 0 1 2]\n",
            " [0 1 2 0 1 2]]\n",
            "Repeating ar2: \n",
            " (3, 6)\n"
          ]
        }
      ]
    },
    {
      "cell_type": "code",
      "source": [
        "a=2\n",
        "b=3\n",
        "repeat2 = (a,b)\n",
        "\n",
        "ar2 = np.tile(ar,repeat2)\n",
        "print(\"Repeating ar2: \\n\", ar2)\n",
        "print(\"Repeating ar2: \\n\", ar2.shape)"
      ],
      "metadata": {
        "colab": {
          "base_uri": "https://localhost:8080/"
        },
        "id": "YZPc9GFKo03w",
        "outputId": "dcf966ec-219a-47ed-f8a4-0959ca1b68e3"
      },
      "execution_count": 29,
      "outputs": [
        {
          "output_type": "stream",
          "name": "stdout",
          "text": [
            "Repeating ar2: \n",
            " [[0 1 2 0 1 2 0 1 2]\n",
            " [0 1 2 0 1 2 0 1 2]]\n",
            "Repeating ar2: \n",
            " (2, 9)\n"
          ]
        }
      ]
    },
    {
      "cell_type": "code",
      "source": [
        "arr = np.arange(4).reshape(2, 2)\n",
        "print(\"arr : \\n\", arr)\n",
        " \n",
        "a = 2 \n",
        "b = 1 \n",
        "repetitions = (a, b)\n",
        "print(\"\\nRepeating arr : \\n\", np.tile(arr, repetitions))\n",
        "print(\"arr Shape : \\n\", np.tile(arr, repetitions).shape)\n",
        "\n",
        "a = 3\n",
        "b = 2\n",
        "\n",
        "repetitions = (a,b)\n",
        "print(\"\\nRepeating arr : \\n\", np.tile(arr, repetitions))\n",
        "print(\"arr Shape : \\n\", np.tile(arr, repetitions).shape)"
      ],
      "metadata": {
        "colab": {
          "base_uri": "https://localhost:8080/"
        },
        "id": "O4EoH7SrpjmQ",
        "outputId": "d956da97-4b23-4c96-b2ed-02bb26841a51"
      },
      "execution_count": 31,
      "outputs": [
        {
          "output_type": "stream",
          "name": "stdout",
          "text": [
            "arr : \n",
            " [[0 1]\n",
            " [2 3]]\n",
            "\n",
            "Repeating arr : \n",
            " [[0 1]\n",
            " [2 3]\n",
            " [0 1]\n",
            " [2 3]]\n",
            "arr Shape : \n",
            " (4, 2)\n",
            "\n",
            "Repeating arr : \n",
            " [[0 1 0 1]\n",
            " [2 3 2 3]\n",
            " [0 1 0 1]\n",
            " [2 3 2 3]\n",
            " [0 1 0 1]\n",
            " [2 3 2 3]]\n",
            "arr Shape : \n",
            " (6, 4)\n"
          ]
        }
      ]
    },
    {
      "cell_type": "code",
      "source": [],
      "metadata": {
        "id": "B8fLofwwq-a7"
      },
      "execution_count": null,
      "outputs": []
    }
  ]
}