{
  "nbformat": 4,
  "nbformat_minor": 0,
  "metadata": {
    "colab": {
      "name": "python_snippets_reverse entire dictionary.ipynb",
      "provenance": [],
      "authorship_tag": "ABX9TyOQIwc+r+5lalnKJEJbbBFn",
      "include_colab_link": true
    },
    "kernelspec": {
      "name": "python3",
      "display_name": "Python 3"
    },
    "language_info": {
      "name": "python"
    }
  },
  "cells": [
    {
      "cell_type": "markdown",
      "metadata": {
        "id": "view-in-github",
        "colab_type": "text"
      },
      "source": [
        "<a href=\"https://colab.research.google.com/github/rvssridatta/PythonSnippets/blob/main/python_snippets_reverse_entire_dictionary/python_snippets_reverse_entire_dictionary.ipynb\" target=\"_parent\"><img src=\"https://colab.research.google.com/assets/colab-badge.svg\" alt=\"Open In Colab\"/></a>"
      ]
    },
    {
      "cell_type": "code",
      "execution_count": 1,
      "metadata": {
        "id": "g3jgldLsepBH"
      },
      "outputs": [],
      "source": [
        ""
      ]
    },
    {
      "cell_type": "markdown",
      "source": [
        "## **How to reverse entire dictionary using for loop**"
      ],
      "metadata": {
        "id": "tJ4_8W59fhMr"
      }
    },
    {
      "cell_type": "code",
      "source": [
        "hex_dic = {10:'A',11:'B',12:'C',13:'D',14:'E',15:'F'}"
      ],
      "metadata": {
        "id": "qjVaJ4DJfeeQ"
      },
      "execution_count": null,
      "outputs": []
    },
    {
      "cell_type": "code",
      "source": [
        "hex_dic_swap = {v:k for k,v in hex_dic.items()}\n",
        "print(hex_dic_swap)"
      ],
      "metadata": {
        "colab": {
          "base_uri": "https://localhost:8080/"
        },
        "id": "G8nlGeF-e-Qi",
        "outputId": "a2b385a2-62bb-4ded-a08d-7a41fc492f62"
      },
      "execution_count": 2,
      "outputs": [
        {
          "output_type": "stream",
          "name": "stdout",
          "text": [
            "{'A': 10, 'B': 11, 'C': 12, 'D': 13, 'E': 14, 'F': 15}\n"
          ]
        }
      ]
    },
    {
      "cell_type": "code",
      "source": [
        ""
      ],
      "metadata": {
        "id": "ZEbT94BufTQ3"
      },
      "execution_count": null,
      "outputs": []
    }
  ]
}